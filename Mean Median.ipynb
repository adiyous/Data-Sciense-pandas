{
 "cells": [
  {
   "cell_type": "markdown",
   "metadata": {},
   "source": [
    "Mean vs Median Numpy"
   ]
  },
  {
   "cell_type": "code",
   "execution_count": 1,
   "metadata": {},
   "outputs": [
    {
     "data": {
      "text/plain": [
       "26988.844665865534"
      ]
     },
     "execution_count": 1,
     "metadata": {},
     "output_type": "execute_result"
    }
   ],
   "source": [
    "import numpy as np\n",
    "incomes = np.random.normal(27000, 15000, 10000)\n",
    "np.mean(incomes)"
   ]
  },
  {
   "cell_type": "code",
   "execution_count": 2,
   "metadata": {},
   "outputs": [
    {
     "data": {
      "image/png": "[encoded data removed]",
      "text/plain": [
       "<Figure size 432x288 with 1 Axes>"
      ]
     },
     "metadata": {
      "needs_background": "light"
     },
     "output_type": "display_data"
    }
   ],
   "source": [
    "import matplotlib.pyplot as plt\n",
    "\n",
    "plt.hist(incomes, 50)\n",
    "plt.show()"
   ]
  },
  {
   "cell_type": "code",
   "execution_count": 3,
   "metadata": {},
   "outputs": [
    {
     "data": {
      "text/plain": [
       "27076.862033261918"
      ]
     },
     "execution_count": 3,
     "metadata": {},
     "output_type": "execute_result"
    }
   ],
   "source": [
    "np.median(incomes)"
   ]
  },
  {
   "cell_type": "markdown",
   "metadata": {},
   "source": [
    "Adding Billionair salary"
   ]
  },
  {
   "cell_type": "code",
   "execution_count": 4,
   "metadata": {},
   "outputs": [],
   "source": [
    "incomes = np.append(incomes, [1000000000])"
   ]
  },
  {
   "cell_type": "code",
   "execution_count": 5,
   "metadata": {},
   "outputs": [
    {
     "data": {
      "text/plain": [
       "27081.940488211018"
      ]
     },
     "execution_count": 5,
     "metadata": {},
     "output_type": "execute_result"
    }
   ],
   "source": [
    "np.median(incomes)"
   ]
  },
  {
   "cell_type": "code",
   "execution_count": 6,
   "metadata": {},
   "outputs": [
    {
     "data": {
      "text/plain": [
       "126976.1470511604"
      ]
     },
     "execution_count": 6,
     "metadata": {},
     "output_type": "execute_result"
    }
   ],
   "source": [
    "np.mean(incomes)"
   ]
  },
  {
   "cell_type": "markdown",
   "metadata": {},
   "source": [
    "### Mode"
   ]
  },
  {
   "cell_type": "markdown",
   "metadata": {},
   "source": [
    "Random ages from 18 to 90 for 500 people"
   ]
  },
  {
   "cell_type": "code",
   "execution_count": 8,
   "metadata": {},
   "outputs": [
    {
     "data": {
      "text/plain": [
       "array([67, 49, 74, 18, 55, 74, 24, 67, 49, 34, 54, 88, 84, 61, 47, 31, 78,\n",
       "       27, 31, 74, 48, 23, 49, 71, 29, 58, 69, 53, 35, 19, 34, 44, 21, 54,\n",
       "       34, 29, 30, 62, 61, 30, 50, 52, 72, 23, 66, 45, 85, 55, 85, 60, 66,\n",
       "       29, 28, 32, 39, 51, 53, 34, 23, 38, 28, 69, 44, 85, 66, 28, 41, 62,\n",
       "       52, 81, 32, 39, 56, 78, 60, 51, 24, 36, 33, 18, 18, 64, 26, 66, 18,\n",
       "       22, 28, 79, 27, 64, 21, 82, 48, 62, 83, 52, 80, 28, 38, 79, 50, 66,\n",
       "       81, 65, 19, 77, 88, 22, 57, 52, 35, 35, 34, 69, 70, 43, 21, 18, 66,\n",
       "       41, 53, 54, 73, 39, 68, 31, 54, 68, 32, 57, 45, 36, 36, 54, 68, 82,\n",
       "       89, 72, 24, 33, 48, 40, 65, 77, 66, 63, 82, 58, 72, 68, 26, 54, 69,\n",
       "       21, 56, 59, 39, 49, 43, 54, 62, 33, 30, 21, 78, 59, 76, 68, 83, 81,\n",
       "       48, 37, 29, 42, 31, 32, 19, 28, 65, 58, 59, 65, 21, 69, 34, 32, 73,\n",
       "       83, 51, 18, 50, 52, 56, 56, 65, 37, 69, 84, 53, 63, 42, 23, 72, 55,\n",
       "       24, 20, 52, 25, 21, 59, 54, 46, 44, 25, 43, 84, 33, 34, 55, 38, 78,\n",
       "       37, 38, 29, 49, 61, 65, 89, 19, 64, 64, 33, 44, 66, 81, 72, 88, 33,\n",
       "       83, 56, 29, 60, 50, 32, 21, 33, 82, 27, 83, 75, 41, 83, 40, 19, 52,\n",
       "       48, 69, 47, 61, 28, 27, 28, 60, 56, 58, 36, 20, 80, 39, 65, 56, 62,\n",
       "       36, 36, 50, 83, 78, 55, 61, 76, 25, 45, 33, 21, 80, 18, 20, 21, 35,\n",
       "       22, 25, 50, 77, 83, 59, 40, 38, 18, 71, 87, 19, 40, 69, 40, 28, 38,\n",
       "       51, 59, 88, 47, 41, 39, 51, 76, 53, 22, 41, 45, 57, 81, 50, 63, 74,\n",
       "       54, 67, 20, 32, 42, 31, 42, 26, 83, 49, 23, 48, 83, 88, 50, 66, 44,\n",
       "       51, 48, 69, 61, 38, 81, 19, 31, 59, 47, 37, 73, 27, 28, 55, 86, 56,\n",
       "       67, 89, 18, 35, 47, 56, 76, 25, 18, 27, 62, 56, 24, 64, 79, 47, 52,\n",
       "       40, 30, 31, 79, 88, 79, 37, 44, 72, 62, 47, 25, 28, 76, 20, 62, 35,\n",
       "       34, 80, 78, 82, 57, 70, 50, 21, 37, 77, 51, 49, 44, 77, 42, 87, 48,\n",
       "       18, 53, 42, 27, 66, 32, 24, 20, 26, 33, 27, 26, 78, 51, 20, 19, 82,\n",
       "       63, 87, 24, 57, 68, 62, 39, 21, 88, 23, 20, 61, 60, 20, 27, 18, 24,\n",
       "       85, 63, 28, 50, 35, 79, 56, 53, 31, 54, 39, 42, 30, 21, 89, 43, 57,\n",
       "       45, 53, 62, 74, 18, 30, 46, 22, 73, 73, 56, 70, 70, 69, 88, 36, 65,\n",
       "       52, 79, 57, 37, 72, 23, 34, 54, 63, 86, 86, 77, 76, 61, 78, 74, 50,\n",
       "       30, 54, 64, 61, 53, 24, 74])"
      ]
     },
     "execution_count": 8,
     "metadata": {},
     "output_type": "execute_result"
    }
   ],
   "source": [
    "ages = np.random.randint(18, high=90, size=500)\n",
    "ages"
   ]
  },
  {
   "cell_type": "code",
   "execution_count": 9,
   "metadata": {},
   "outputs": [
    {
     "data": {
      "text/plain": [
       "ModeResult(mode=array([18]), count=array([13]))"
      ]
     },
     "execution_count": 9,
     "metadata": {},
     "output_type": "execute_result"
    }
   ],
   "source": [
    "from scipy import stats\n",
    "\n",
    "stats.mode(ages)"
   ]
  },
  {
   "cell_type": "code",
   "execution_count": 10,
   "metadata": {},
   "outputs": [
    {
     "data": {
      "image/png": "[encoded data removed]",
      "text/plain": [
       "<Figure size 432x288 with 1 Axes>"
      ]
     },
     "metadata": {
      "needs_background": "light"
     },
     "output_type": "display_data"
    }
   ],
   "source": [
    "plt.hist(ages, 50)\n",
    "plt.show()"
   ]
  }
 ],
 "metadata": {
  "kernelspec": {
   "display_name": "Python 3",
   "language": "python",
   "name": "python3"
  },
  "language_info": {
   "codemirror_mode": {
    "name": "ipython",
    "version": 3
   },
   "file_extension": ".py",
   "mimetype": "text/x-python",
   "name": "python",
   "nbconvert_exporter": "python",
   "pygments_lexer": "ipython3",
   "version": "3.7.6"
  }
 },
 "nbformat": 4,
 "nbformat_minor": 4
}
